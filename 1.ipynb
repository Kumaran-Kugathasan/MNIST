{
  "nbformat": 4,
  "nbformat_minor": 0,
  "metadata": {
    "colab": {
      "name": "1.ipynb",
      "provenance": [],
      "authorship_tag": "ABX9TyMSdJx3Zg3RU5+9WadrTepd",
      "include_colab_link": true
    },
    "kernelspec": {
      "name": "python3",
      "display_name": "Python 3"
    }
  },
  "cells": [
    {
      "cell_type": "markdown",
      "metadata": {
        "id": "view-in-github",
        "colab_type": "text"
      },
      "source": [
        "<a href=\"https://colab.research.google.com/github/Kumaran-Kugathasan/MNIST/blob/master/1.ipynb\" target=\"_parent\"><img src=\"https://colab.research.google.com/assets/colab-badge.svg\" alt=\"Open In Colab\"/></a>"
      ]
    },
    {
      "cell_type": "code",
      "metadata": {
        "id": "g3ytasC8pl9J",
        "colab_type": "code",
        "colab": {}
      },
      "source": [
        "from keras.datasets import mnist\n",
        "from keras.utils import to_categorical\n",
        "from tensorflow.keras.models import Sequential\n",
        "from tensorflow.keras.layers import Dense, Conv2D, Dropout, Flatten, MaxPooling2D"
      ],
      "execution_count": 71,
      "outputs": []
    },
    {
      "cell_type": "code",
      "metadata": {
        "id": "llPrc3vxpnJ8",
        "colab_type": "code",
        "colab": {}
      },
      "source": [
        "# Loading the MNIST Dataset from keras\n",
        "(train_X, train_Y), (test_X, test_Y) = mnist.load_data()"
      ],
      "execution_count": 72,
      "outputs": []
    },
    {
      "cell_type": "code",
      "metadata": {
        "id": "nWNlfKTfyLs9",
        "colab_type": "code",
        "colab": {
          "base_uri": "https://localhost:8080/",
          "height": 34
        },
        "outputId": "4929cbee-c820-4ff7-86d7-18caedf5080f"
      },
      "source": [
        "#Finding the shape of training data\n",
        "train_X.shape"
      ],
      "execution_count": 73,
      "outputs": [
        {
          "output_type": "execute_result",
          "data": {
            "text/plain": [
              "(60000, 28, 28)"
            ]
          },
          "metadata": {
            "tags": []
          },
          "execution_count": 73
        }
      ]
    },
    {
      "cell_type": "code",
      "metadata": {
        "id": "iGbEju3aua8F",
        "colab_type": "code",
        "colab": {}
      },
      "source": [
        "# changing the shape of array to 4 dimentions i.e single channel(here 28 chosen since the pixel size is 28x28)\n",
        "train_X = train_X.reshape(train_X.shape[0], 28, 28, 1)\n",
        "test_X = test_X.reshape(test_X.shape[0], 28, 28, 1)\n",
        "\n",
        "# change the data type from uint8 (interger) to float to help nomalizing\n",
        "train_X = train_X.astype('float32')\n",
        "test_X = test_X.astype('float32')\n",
        "\n",
        "#one-hoting the catagorical target variable\n",
        "train_Y = to_categorical(train_Y,10)\n",
        "test_Y = to_categorical(test_Y,10)\n",
        "\n",
        "#Scaling pixels i.e. nomalising by diving the RGB codes by maximum RGB value(255) this will return a value between 0 to 1\n",
        "train_X /= 255\n",
        "test_X /= 255"
      ],
      "execution_count": 74,
      "outputs": []
    },
    {
      "cell_type": "code",
      "metadata": {
        "id": "f1yQOwGu8_Pw",
        "colab_type": "code",
        "colab": {}
      },
      "source": [
        "# Creating sequential model\n",
        "model = Sequential()\n",
        "\n",
        "#Adding First Convolution layer\n",
        "model.add(Conv2D(32, kernel_size=(3,3),activation='relu', input_shape=(28, 28, 1)))\n",
        "# Adding pooling layer\n",
        "model.add(MaxPooling2D(pool_size=(2, 2)))\n",
        "#Adding Second Convolution layer\n",
        "model.add(Conv2D(128, (3, 3), activation='relu'))\n",
        "# Adding pooling layer\n",
        "model.add(MaxPooling2D(pool_size=(2, 2)))\n",
        "# Flattening output of convolution(2D array) to use fully connected layer\n",
        "model.add(Flatten())\n",
        "# adding fully connected layer\n",
        "model.add(Dense(64, activation='relu'))\n",
        "# adding dropout layer\n",
        "model.add(Dropout(0.3))\n",
        "# Adding output layer with 10 neurons to match the number of classes\n",
        "model.add(Dense(10, activation='softmax'))\n",
        "\n",
        "# compiling model\n",
        "model.compile(loss='categorical_crossentropy', metrics=['accuracy'], optimizer='adam')\n"
      ],
      "execution_count": 76,
      "outputs": []
    },
    {
      "cell_type": "code",
      "metadata": {
        "id": "hoNdUNhxFt_U",
        "colab_type": "code",
        "colab": {
          "base_uri": "https://localhost:8080/",
          "height": 374
        },
        "outputId": "bf4b95f7-8f60-4ace-d60c-b01549d5dd03"
      },
      "source": [
        "model.fit(x=train_X,y=train_Y, epochs=10)"
      ],
      "execution_count": 80,
      "outputs": [
        {
          "output_type": "stream",
          "text": [
            "Epoch 1/10\n",
            "1875/1875 [==============================] - 66s 35ms/step - loss: 0.0415 - accuracy: 0.9872\n",
            "Epoch 2/10\n",
            "1875/1875 [==============================] - 66s 35ms/step - loss: 0.0357 - accuracy: 0.9890\n",
            "Epoch 3/10\n",
            "1875/1875 [==============================] - 67s 36ms/step - loss: 0.0290 - accuracy: 0.9914\n",
            "Epoch 4/10\n",
            "1875/1875 [==============================] - 66s 35ms/step - loss: 0.0264 - accuracy: 0.9917\n",
            "Epoch 5/10\n",
            "1875/1875 [==============================] - 66s 35ms/step - loss: 0.0220 - accuracy: 0.9932\n",
            "Epoch 6/10\n",
            "1875/1875 [==============================] - 65s 35ms/step - loss: 0.0206 - accuracy: 0.9936\n",
            "Epoch 7/10\n",
            "1875/1875 [==============================] - 65s 35ms/step - loss: 0.0177 - accuracy: 0.9943\n",
            "Epoch 8/10\n",
            "1875/1875 [==============================] - 66s 35ms/step - loss: 0.0158 - accuracy: 0.9946\n",
            "Epoch 9/10\n",
            "1875/1875 [==============================] - 66s 35ms/step - loss: 0.0146 - accuracy: 0.9952\n",
            "Epoch 10/10\n",
            "1875/1875 [==============================] - 67s 36ms/step - loss: 0.0140 - accuracy: 0.9954\n"
          ],
          "name": "stdout"
        },
        {
          "output_type": "execute_result",
          "data": {
            "text/plain": [
              "<tensorflow.python.keras.callbacks.History at 0x7f5662d11dd8>"
            ]
          },
          "metadata": {
            "tags": []
          },
          "execution_count": 80
        }
      ]
    },
    {
      "cell_type": "code",
      "metadata": {
        "id": "K__qWV96M-Zy",
        "colab_type": "code",
        "colab": {
          "base_uri": "https://localhost:8080/",
          "height": 51
        },
        "outputId": "de1621bf-9361-46e5-9d95-18efa9708df1"
      },
      "source": [
        "model.evaluate(test_X, test_Y)"
      ],
      "execution_count": 81,
      "outputs": [
        {
          "output_type": "stream",
          "text": [
            "313/313 [==============================] - 4s 13ms/step - loss: 0.0363 - accuracy: 0.9914\n"
          ],
          "name": "stdout"
        },
        {
          "output_type": "execute_result",
          "data": {
            "text/plain": [
              "[0.03628404811024666, 0.9914000034332275]"
            ]
          },
          "metadata": {
            "tags": []
          },
          "execution_count": 81
        }
      ]
    }
  ]
}