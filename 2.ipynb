{
  "nbformat": 4,
  "nbformat_minor": 0,
  "metadata": {
    "colab": {
      "name": "2.ipynb",
      "provenance": [],
      "authorship_tag": "ABX9TyM2bZMWUPQaAx9/IJpKCPS9",
      "include_colab_link": true
    },
    "kernelspec": {
      "name": "python3",
      "display_name": "Python 3"
    }
  },
  "cells": [
    {
      "cell_type": "markdown",
      "metadata": {
        "id": "view-in-github",
        "colab_type": "text"
      },
      "source": [
        "<a href=\"https://colab.research.google.com/github/Kumaran-Kugathasan/MNIST/blob/master/2.ipynb\" target=\"_parent\"><img src=\"https://colab.research.google.com/assets/colab-badge.svg\" alt=\"Open In Colab\"/></a>"
      ]
    },
    {
      "cell_type": "code",
      "metadata": {
        "id": "g3ytasC8pl9J",
        "colab_type": "code",
        "colab": {}
      },
      "source": [
        "import numpy as np\n",
        "from keras.datasets import mnist\n",
        "from keras.utils import to_categorical\n",
        "from tensorflow.keras.models import Sequential\n",
        "from tensorflow.keras.layers import Dense, Conv2D, Dropout, Flatten, MaxPooling2D"
      ],
      "execution_count": 22,
      "outputs": []
    },
    {
      "cell_type": "code",
      "metadata": {
        "id": "llPrc3vxpnJ8",
        "colab_type": "code",
        "colab": {}
      },
      "source": [
        "# Loading the MNIST Dataset from keras\n",
        "(train_X, train_Y), (test_X, test_Y) = mnist.load_data()"
      ],
      "execution_count": 23,
      "outputs": []
    },
    {
      "cell_type": "code",
      "metadata": {
        "id": "iGbEju3aua8F",
        "colab_type": "code",
        "colab": {}
      },
      "source": [
        "# changing the shape of array to 4 dimentions i.e single channel(here 28 chosen since the pixel size is 28x28)\n",
        "train_X = train_X.reshape(train_X.shape[0], 28, 28, 1)\n",
        "test_X = test_X.reshape(test_X.shape[0], 28, 28, 1)\n",
        "\n",
        "# change the data type from uint8 (interger) to float to help nomalizing\n",
        "train_X = train_X.astype('float32')\n",
        "test_X = test_X.astype('float32')\n",
        "\n",
        "#one-hoting the catagorical target variable\n",
        "train_Y = to_categorical(train_Y,10)\n",
        "test_Y = to_categorical(test_Y,10)\n",
        "\n",
        "#Scaling pixels i.e. nomalising by diving the RGB codes by maximum RGB value(255) this will return a value between 0 to 1\n",
        "train_X /= 255\n",
        "test_X /= 255"
      ],
      "execution_count": 24,
      "outputs": []
    },
    {
      "cell_type": "code",
      "metadata": {
        "id": "knA8ItsnN7Ls",
        "colab_type": "code",
        "colab": {}
      },
      "source": [
        "# Adding some noise to the dataset\n",
        "noise_factor = 0.33\n",
        "x_train_noisy = train_X + noise_factor * np.random.normal(loc=0.0, scale=1.0, size=train_X.shape) \n",
        "x_test_noisy = test_X + noise_factor * np.random.normal(loc=0.0, scale=1.0, size=test_X.shape) \n",
        "x_train_noisy = np.clip(x_train_noisy, 0., 1.)\n",
        "x_test_noisy = np.clip(x_test_noisy, 0., 1.)"
      ],
      "execution_count": 25,
      "outputs": []
    },
    {
      "cell_type": "code",
      "metadata": {
        "id": "f1yQOwGu8_Pw",
        "colab_type": "code",
        "colab": {}
      },
      "source": [
        "# Creating sequential model\n",
        "model = Sequential()\n",
        "\n",
        "#Adding First Convolution layer\n",
        "model.add(Conv2D(32, kernel_size=(3,3),activation='relu', input_shape=(28, 28, 1)))\n",
        "# Adding pooling layer\n",
        "model.add(MaxPooling2D(pool_size=(2, 2)))\n",
        "#Adding Second Convolution layer\n",
        "model.add(Conv2D(128, (3, 3), activation='relu'))\n",
        "# Adding pooling layer\n",
        "model.add(MaxPooling2D(pool_size=(2, 2)))\n",
        "# Flattening output of convolution(2D array) to use fully connected layer\n",
        "model.add(Flatten())\n",
        "# adding fully connected layer\n",
        "model.add(Dense(64, activation='relu'))\n",
        "# adding dropout layer\n",
        "model.add(Dropout(0.3))\n",
        "# Adding output layer with 10 neurons to match the number of classes\n",
        "model.add(Dense(10, activation='softmax'))\n",
        "\n",
        "# compiling model\n",
        "model.compile(loss='categorical_crossentropy', metrics=['accuracy'], optimizer='adam')\n"
      ],
      "execution_count": 26,
      "outputs": []
    },
    {
      "cell_type": "code",
      "metadata": {
        "id": "KxEy-OmznFxZ",
        "colab_type": "code",
        "colab": {}
      },
      "source": [
        "model.fit(x=x_train_noisy,y=train_Y, epochs=10)"
      ],
      "execution_count": null,
      "outputs": []
    },
    {
      "cell_type": "code",
      "metadata": {
        "id": "K__qWV96M-Zy",
        "colab_type": "code",
        "colab": {
          "base_uri": "https://localhost:8080/",
          "height": 51
        },
        "outputId": "c8d763fd-ef17-4263-e78a-7b8eabe50fbc"
      },
      "source": [
        "model.evaluate(x_test_noisy, test_Y)"
      ],
      "execution_count": 19,
      "outputs": [
        {
          "output_type": "stream",
          "text": [
            "313/313 [==============================] - 4s 13ms/step - loss: 0.0597 - accuracy: 0.9860\n"
          ],
          "name": "stdout"
        },
        {
          "output_type": "execute_result",
          "data": {
            "text/plain": [
              "[0.05971162021160126, 0.9860000014305115]"
            ]
          },
          "metadata": {
            "tags": []
          },
          "execution_count": 19
        }
      ]
    }
  ]
}